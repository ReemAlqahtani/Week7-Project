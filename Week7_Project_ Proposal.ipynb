{
 "cells": [
  {
   "cell_type": "markdown",
   "id": "09dba904-4283-4863-b084-f8531cde1072",
   "metadata": {},
   "source": [
    "# Machine Learning in Fintech\n",
    "\n",
    "\n",
    "# Area of Fintech\n",
    "\n",
    "Lending & Credit Loan Decision\n",
    "\n",
    "\n",
    "# Dataset Researched and Located\n",
    "\n",
    "We found a dataset for P2P loans for [LendingClub](https://www.lendingclub.com/) platform. We get the data from the [Kaggle website](https://www.kaggle.com/jeandedieunyandwi/lending-club-dataset)\n",
    "\n",
    "\n",
    "# ML Use Case\n",
    "\n",
    "We are trying to build a model that would give us indication if this candidate be suitable to be given a loan\n",
    "\n",
    "\n",
    "# ML Model Selected\n",
    "\n",
    "We need a Classification model that able to perform well under unbalanced data and non-linear relation\n",
    "\n",
    "\n",
    "\n",
    "* Random Forest \n",
    "* XGBoost\n",
    "* Neural Network\n",
    "\n",
    "**Group Number**: 06\n",
    "\n",
    "**Group Name**: R.A.H\n",
    "\n",
    "**Group Members**:\n",
    "\n",
    "- Hussein Ali\n",
    "\n",
    "- Reem AlQhatani\n",
    "\n",
    "- Afrah AlHarbi\n",
    "\n",
    "- Hessah AlMatrudi\n",
    "\n",
    "- Ahmad AlGazal\n"
   ]
  },
  {
   "cell_type": "markdown",
   "id": "a714487a-a6e3-4ebb-ba87-a67e17465403",
   "metadata": {},
   "source": []
  }
 ],
 "metadata": {
  "kernelspec": {
   "display_name": "Python 3",
   "language": "python",
   "name": "python3"
  },
  "language_info": {
   "codemirror_mode": {
    "name": "ipython",
    "version": 3
   },
   "file_extension": ".py",
   "mimetype": "text/x-python",
   "name": "python",
   "nbconvert_exporter": "python",
   "pygments_lexer": "ipython3",
   "version": "3.8.8"
  }
 },
 "nbformat": 4,
 "nbformat_minor": 5
}
